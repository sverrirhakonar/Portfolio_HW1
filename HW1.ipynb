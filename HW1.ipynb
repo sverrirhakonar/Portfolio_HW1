{
 "cells": [
  {
   "cell_type": "markdown",
   "id": "f3425221",
   "metadata": {},
   "source": [
    "# HMC Case: Mean-Variance Optimization Analysis"
   ]
  },
  {
   "cell_type": "code",
   "execution_count": 23,
   "id": "15535efd",
   "metadata": {},
   "outputs": [],
   "source": [
    "import pandas as pd\n",
    "import math\n",
    "import numpy as np"
   ]
  },
  {
   "cell_type": "code",
   "execution_count": 34,
   "id": "17b414cf",
   "metadata": {},
   "outputs": [],
   "source": [
    "excess_returns = pd.read_excel('multi_asset_etf_data.xlsx',sheet_name='excess returns').set_index('Date')\n",
    "excess_returns = excess_returns.drop('QAI',axis=1)\n"
   ]
  },
  {
   "cell_type": "markdown",
   "id": "9fb864e0",
   "metadata": {},
   "source": [
    "# 2.1 Summary Statistics"
   ]
  },
  {
   "cell_type": "code",
   "execution_count": null,
   "id": "0306d80c",
   "metadata": {},
   "outputs": [
    {
     "name": "stdout",
     "output_type": "stream",
     "text": [
      "         Mean  Volatility    Sharpe\n",
      "BWX -0.007716    0.082789 -0.093202\n",
      "DBC -0.005292    0.166553 -0.031774\n",
      "EEM  0.029339    0.176164  0.166542\n",
      "EFA  0.061775    0.150903  0.409372\n",
      "HYG  0.041371    0.075928  0.544873\n",
      "IEF  0.016404    0.063442  0.258569\n",
      "IYR  0.074916    0.168675  0.444143\n",
      "PSP  0.092561    0.213370  0.433804\n",
      "SPY  0.128141    0.142839  0.897103\n",
      "TIP  0.020502    0.051115  0.401091\n"
     ]
    }
   ],
   "source": [
    "\n",
    "excess_mean = excess_returns.mean() * 12\n",
    "excess_vol = excess_returns.std() * math.sqrt(12)\n",
    "excess_sharpe = excess_mean / excess_vol\n",
    "\n",
    "print(pd.DataFrame({'Mean' : excess_mean,'Volatility': excess_vol, 'Sharpe': excess_sharpe}))\n"
   ]
  },
  {
   "cell_type": "markdown",
   "id": "50f44dd6",
   "metadata": {},
   "source": [
    "##### As we can see, SPY has the best sharpe ratio and BWX has the worst sharpe ratio"
   ]
  },
  {
   "cell_type": "markdown",
   "id": "ca492de3",
   "metadata": {},
   "source": [
    "# 2.2 Descriptive Analysis"
   ]
  },
  {
   "cell_type": "code",
   "execution_count": null,
   "id": "16d55b1b",
   "metadata": {},
   "outputs": [
    {
     "name": "stdout",
     "output_type": "stream",
     "text": [
      "Correlation Matrix:\n"
     ]
    },
    {
     "data": {
      "text/html": [
       "<style type=\"text/css\">\n",
       "#T_dbf48_row0_col0, #T_dbf48_row1_col1, #T_dbf48_row2_col2, #T_dbf48_row3_col3, #T_dbf48_row4_col4, #T_dbf48_row5_col5, #T_dbf48_row6_col6, #T_dbf48_row7_col7, #T_dbf48_row8_col8, #T_dbf48_row9_col9 {\n",
       "  background-color: #b40426;\n",
       "  color: #f1f1f1;\n",
       "}\n",
       "#T_dbf48_row0_col1, #T_dbf48_row0_col6 {\n",
       "  background-color: #b9d0f9;\n",
       "  color: #000000;\n",
       "}\n",
       "#T_dbf48_row0_col2 {\n",
       "  background-color: #f3c8b2;\n",
       "  color: #000000;\n",
       "}\n",
       "#T_dbf48_row0_col3, #T_dbf48_row3_col6 {\n",
       "  background-color: #efcebd;\n",
       "  color: #000000;\n",
       "}\n",
       "#T_dbf48_row0_col4, #T_dbf48_row3_col0, #T_dbf48_row4_col0 {\n",
       "  background-color: #dfdbd9;\n",
       "  color: #000000;\n",
       "}\n",
       "#T_dbf48_row0_col5, #T_dbf48_row6_col4, #T_dbf48_row8_col2 {\n",
       "  background-color: #f7b497;\n",
       "  color: #000000;\n",
       "}\n",
       "#T_dbf48_row0_col7 {\n",
       "  background-color: #e1dad6;\n",
       "  color: #000000;\n",
       "}\n",
       "#T_dbf48_row0_col8, #T_dbf48_row1_col7 {\n",
       "  background-color: #ccd9ed;\n",
       "  color: #000000;\n",
       "}\n",
       "#T_dbf48_row0_col9 {\n",
       "  background-color: #f5c1a9;\n",
       "  color: #000000;\n",
       "}\n",
       "#T_dbf48_row1_col0, #T_dbf48_row1_col5, #T_dbf48_row1_col6, #T_dbf48_row1_col9, #T_dbf48_row5_col1, #T_dbf48_row5_col2, #T_dbf48_row5_col3, #T_dbf48_row5_col4, #T_dbf48_row5_col7, #T_dbf48_row5_col8 {\n",
       "  background-color: #3b4cc0;\n",
       "  color: #f1f1f1;\n",
       "}\n",
       "#T_dbf48_row1_col2 {\n",
       "  background-color: #dcdddd;\n",
       "  color: #000000;\n",
       "}\n",
       "#T_dbf48_row1_col3 {\n",
       "  background-color: #d7dce3;\n",
       "  color: #000000;\n",
       "}\n",
       "#T_dbf48_row1_col4 {\n",
       "  background-color: #abc8fd;\n",
       "  color: #000000;\n",
       "}\n",
       "#T_dbf48_row1_col8, #T_dbf48_row9_col4 {\n",
       "  background-color: #cad8ef;\n",
       "  color: #000000;\n",
       "}\n",
       "#T_dbf48_row2_col0 {\n",
       "  background-color: #e5d8d1;\n",
       "  color: #000000;\n",
       "}\n",
       "#T_dbf48_row2_col1 {\n",
       "  background-color: #f4c5ad;\n",
       "  color: #000000;\n",
       "}\n",
       "#T_dbf48_row2_col3, #T_dbf48_row9_col5 {\n",
       "  background-color: #ec7f63;\n",
       "  color: #f1f1f1;\n",
       "}\n",
       "#T_dbf48_row2_col4 {\n",
       "  background-color: #f4c6af;\n",
       "  color: #000000;\n",
       "}\n",
       "#T_dbf48_row2_col5 {\n",
       "  background-color: #8db0fe;\n",
       "  color: #000000;\n",
       "}\n",
       "#T_dbf48_row2_col6 {\n",
       "  background-color: #c7d7f0;\n",
       "  color: #000000;\n",
       "}\n",
       "#T_dbf48_row2_col7, #T_dbf48_row6_col7, #T_dbf48_row7_col2, #T_dbf48_row8_col4 {\n",
       "  background-color: #f59c7d;\n",
       "  color: #000000;\n",
       "}\n",
       "#T_dbf48_row2_col8, #T_dbf48_row6_col3 {\n",
       "  background-color: #f7b194;\n",
       "  color: #000000;\n",
       "}\n",
       "#T_dbf48_row2_col9 {\n",
       "  background-color: #9fbfff;\n",
       "  color: #000000;\n",
       "}\n",
       "#T_dbf48_row3_col1 {\n",
       "  background-color: #f3c7b1;\n",
       "  color: #000000;\n",
       "}\n",
       "#T_dbf48_row3_col2 {\n",
       "  background-color: #eb7d62;\n",
       "  color: #f1f1f1;\n",
       "}\n",
       "#T_dbf48_row3_col4 {\n",
       "  background-color: #f59f80;\n",
       "  color: #000000;\n",
       "}\n",
       "#T_dbf48_row3_col5 {\n",
       "  background-color: #92b4fe;\n",
       "  color: #000000;\n",
       "}\n",
       "#T_dbf48_row3_col7, #T_dbf48_row7_col3, #T_dbf48_row7_col8 {\n",
       "  background-color: #d85646;\n",
       "  color: #f1f1f1;\n",
       "}\n",
       "#T_dbf48_row3_col8 {\n",
       "  background-color: #e46e56;\n",
       "  color: #f1f1f1;\n",
       "}\n",
       "#T_dbf48_row3_col9 {\n",
       "  background-color: #a6c4fe;\n",
       "  color: #000000;\n",
       "}\n",
       "#T_dbf48_row4_col1 {\n",
       "  background-color: #f0cdbb;\n",
       "  color: #000000;\n",
       "}\n",
       "#T_dbf48_row4_col2 {\n",
       "  background-color: #f7b396;\n",
       "  color: #000000;\n",
       "}\n",
       "#T_dbf48_row4_col3 {\n",
       "  background-color: #f18d6f;\n",
       "  color: #f1f1f1;\n",
       "}\n",
       "#T_dbf48_row4_col5 {\n",
       "  background-color: #b7cff9;\n",
       "  color: #000000;\n",
       "}\n",
       "#T_dbf48_row4_col6 {\n",
       "  background-color: #f5c0a7;\n",
       "  color: #000000;\n",
       "}\n",
       "#T_dbf48_row4_col7 {\n",
       "  background-color: #ec8165;\n",
       "  color: #f1f1f1;\n",
       "}\n",
       "#T_dbf48_row4_col8 {\n",
       "  background-color: #ee8669;\n",
       "  color: #f1f1f1;\n",
       "}\n",
       "#T_dbf48_row4_col9, #T_dbf48_row5_col0 {\n",
       "  background-color: #d8dce2;\n",
       "  color: #000000;\n",
       "}\n",
       "#T_dbf48_row5_col6 {\n",
       "  background-color: #4961d2;\n",
       "  color: #f1f1f1;\n",
       "}\n",
       "#T_dbf48_row5_col9 {\n",
       "  background-color: #f6a385;\n",
       "  color: #000000;\n",
       "}\n",
       "#T_dbf48_row6_col0, #T_dbf48_row6_col1 {\n",
       "  background-color: #cedaeb;\n",
       "  color: #000000;\n",
       "}\n",
       "#T_dbf48_row6_col2 {\n",
       "  background-color: #edd1c2;\n",
       "  color: #000000;\n",
       "}\n",
       "#T_dbf48_row6_col5 {\n",
       "  background-color: #d6dce4;\n",
       "  color: #000000;\n",
       "}\n",
       "#T_dbf48_row6_col8 {\n",
       "  background-color: #f39778;\n",
       "  color: #000000;\n",
       "}\n",
       "#T_dbf48_row6_col9 {\n",
       "  background-color: #e9d5cb;\n",
       "  color: #000000;\n",
       "}\n",
       "#T_dbf48_row7_col0 {\n",
       "  background-color: #c5d6f2;\n",
       "  color: #000000;\n",
       "}\n",
       "#T_dbf48_row7_col1 {\n",
       "  background-color: #efcfbf;\n",
       "  color: #000000;\n",
       "}\n",
       "#T_dbf48_row7_col4 {\n",
       "  background-color: #f29274;\n",
       "  color: #f1f1f1;\n",
       "}\n",
       "#T_dbf48_row7_col5 {\n",
       "  background-color: #8caffe;\n",
       "  color: #000000;\n",
       "}\n",
       "#T_dbf48_row7_col6 {\n",
       "  background-color: #f6bda2;\n",
       "  color: #000000;\n",
       "}\n",
       "#T_dbf48_row7_col9 {\n",
       "  background-color: #aac7fd;\n",
       "  color: #000000;\n",
       "}\n",
       "#T_dbf48_row8_col0, #T_dbf48_row8_col9 {\n",
       "  background-color: #a1c0ff;\n",
       "  color: #000000;\n",
       "}\n",
       "#T_dbf48_row8_col1 {\n",
       "  background-color: #ecd3c5;\n",
       "  color: #000000;\n",
       "}\n",
       "#T_dbf48_row8_col3 {\n",
       "  background-color: #e67259;\n",
       "  color: #f1f1f1;\n",
       "}\n",
       "#T_dbf48_row8_col5 {\n",
       "  background-color: #86a9fc;\n",
       "  color: #f1f1f1;\n",
       "}\n",
       "#T_dbf48_row8_col6 {\n",
       "  background-color: #f7ba9f;\n",
       "  color: #000000;\n",
       "}\n",
       "#T_dbf48_row8_col7 {\n",
       "  background-color: #d95847;\n",
       "  color: #f1f1f1;\n",
       "}\n",
       "#T_dbf48_row9_col0 {\n",
       "  background-color: #f2cbb7;\n",
       "  color: #000000;\n",
       "}\n",
       "#T_dbf48_row9_col1 {\n",
       "  background-color: #a3c2fe;\n",
       "  color: #000000;\n",
       "}\n",
       "#T_dbf48_row9_col2 {\n",
       "  background-color: #b3cdfb;\n",
       "  color: #000000;\n",
       "}\n",
       "#T_dbf48_row9_col3 {\n",
       "  background-color: #b6cefa;\n",
       "  color: #000000;\n",
       "}\n",
       "#T_dbf48_row9_col6 {\n",
       "  background-color: #cdd9ec;\n",
       "  color: #000000;\n",
       "}\n",
       "#T_dbf48_row9_col7 {\n",
       "  background-color: #bed2f6;\n",
       "  color: #000000;\n",
       "}\n",
       "#T_dbf48_row9_col8 {\n",
       "  background-color: #bad0f8;\n",
       "  color: #000000;\n",
       "}\n",
       "</style>\n",
       "<table id=\"T_dbf48\">\n",
       "  <thead>\n",
       "    <tr>\n",
       "      <th class=\"blank level0\" >&nbsp;</th>\n",
       "      <th id=\"T_dbf48_level0_col0\" class=\"col_heading level0 col0\" >BWX</th>\n",
       "      <th id=\"T_dbf48_level0_col1\" class=\"col_heading level0 col1\" >DBC</th>\n",
       "      <th id=\"T_dbf48_level0_col2\" class=\"col_heading level0 col2\" >EEM</th>\n",
       "      <th id=\"T_dbf48_level0_col3\" class=\"col_heading level0 col3\" >EFA</th>\n",
       "      <th id=\"T_dbf48_level0_col4\" class=\"col_heading level0 col4\" >HYG</th>\n",
       "      <th id=\"T_dbf48_level0_col5\" class=\"col_heading level0 col5\" >IEF</th>\n",
       "      <th id=\"T_dbf48_level0_col6\" class=\"col_heading level0 col6\" >IYR</th>\n",
       "      <th id=\"T_dbf48_level0_col7\" class=\"col_heading level0 col7\" >PSP</th>\n",
       "      <th id=\"T_dbf48_level0_col8\" class=\"col_heading level0 col8\" >SPY</th>\n",
       "      <th id=\"T_dbf48_level0_col9\" class=\"col_heading level0 col9\" >TIP</th>\n",
       "    </tr>\n",
       "  </thead>\n",
       "  <tbody>\n",
       "    <tr>\n",
       "      <th id=\"T_dbf48_level0_row0\" class=\"row_heading level0 row0\" >BWX</th>\n",
       "      <td id=\"T_dbf48_row0_col0\" class=\"data row0 col0\" >1.00</td>\n",
       "      <td id=\"T_dbf48_row0_col1\" class=\"data row0 col1\" >0.19</td>\n",
       "      <td id=\"T_dbf48_row0_col2\" class=\"data row0 col2\" >0.62</td>\n",
       "      <td id=\"T_dbf48_row0_col3\" class=\"data row0 col3\" >0.60</td>\n",
       "      <td id=\"T_dbf48_row0_col4\" class=\"data row0 col4\" >0.60</td>\n",
       "      <td id=\"T_dbf48_row0_col5\" class=\"data row0 col5\" >0.58</td>\n",
       "      <td id=\"T_dbf48_row0_col6\" class=\"data row0 col6\" >0.55</td>\n",
       "      <td id=\"T_dbf48_row0_col7\" class=\"data row0 col7\" >0.53</td>\n",
       "      <td id=\"T_dbf48_row0_col8\" class=\"data row0 col8\" >0.44</td>\n",
       "      <td id=\"T_dbf48_row0_col9\" class=\"data row0 col9\" >0.68</td>\n",
       "    </tr>\n",
       "    <tr>\n",
       "      <th id=\"T_dbf48_level0_row1\" class=\"row_heading level0 row1\" >DBC</th>\n",
       "      <td id=\"T_dbf48_row1_col0\" class=\"data row1 col0\" >0.19</td>\n",
       "      <td id=\"T_dbf48_row1_col1\" class=\"data row1 col1\" >1.00</td>\n",
       "      <td id=\"T_dbf48_row1_col2\" class=\"data row1 col2\" >0.51</td>\n",
       "      <td id=\"T_dbf48_row1_col3\" class=\"data row1 col3\" >0.50</td>\n",
       "      <td id=\"T_dbf48_row1_col4\" class=\"data row1 col4\" >0.46</td>\n",
       "      <td id=\"T_dbf48_row1_col5\" class=\"data row1 col5\" >-0.30</td>\n",
       "      <td id=\"T_dbf48_row1_col6\" class=\"data row1 col6\" >0.28</td>\n",
       "      <td id=\"T_dbf48_row1_col7\" class=\"data row1 col7\" >0.45</td>\n",
       "      <td id=\"T_dbf48_row1_col8\" class=\"data row1 col8\" >0.43</td>\n",
       "      <td id=\"T_dbf48_row1_col9\" class=\"data row1 col9\" >0.11</td>\n",
       "    </tr>\n",
       "    <tr>\n",
       "      <th id=\"T_dbf48_level0_row2\" class=\"row_heading level0 row2\" >EEM</th>\n",
       "      <td id=\"T_dbf48_row2_col0\" class=\"data row2 col0\" >0.62</td>\n",
       "      <td id=\"T_dbf48_row2_col1\" class=\"data row2 col1\" >0.51</td>\n",
       "      <td id=\"T_dbf48_row2_col2\" class=\"data row2 col2\" >1.00</td>\n",
       "      <td id=\"T_dbf48_row2_col3\" class=\"data row2 col3\" >0.82</td>\n",
       "      <td id=\"T_dbf48_row2_col4\" class=\"data row2 col4\" >0.69</td>\n",
       "      <td id=\"T_dbf48_row2_col5\" class=\"data row2 col5\" >0.03</td>\n",
       "      <td id=\"T_dbf48_row2_col6\" class=\"data row2 col6\" >0.58</td>\n",
       "      <td id=\"T_dbf48_row2_col7\" class=\"data row2 col7\" >0.75</td>\n",
       "      <td id=\"T_dbf48_row2_col8\" class=\"data row2 col8\" >0.69</td>\n",
       "      <td id=\"T_dbf48_row2_col9\" class=\"data row2 col9\" >0.38</td>\n",
       "    </tr>\n",
       "    <tr>\n",
       "      <th id=\"T_dbf48_level0_row3\" class=\"row_heading level0 row3\" >EFA</th>\n",
       "      <td id=\"T_dbf48_row3_col0\" class=\"data row3 col0\" >0.60</td>\n",
       "      <td id=\"T_dbf48_row3_col1\" class=\"data row3 col1\" >0.50</td>\n",
       "      <td id=\"T_dbf48_row3_col2\" class=\"data row3 col2\" >0.82</td>\n",
       "      <td id=\"T_dbf48_row3_col3\" class=\"data row3 col3\" >1.00</td>\n",
       "      <td id=\"T_dbf48_row3_col4\" class=\"data row3 col4\" >0.79</td>\n",
       "      <td id=\"T_dbf48_row3_col5\" class=\"data row3 col5\" >0.04</td>\n",
       "      <td id=\"T_dbf48_row3_col6\" class=\"data row3 col6\" >0.70</td>\n",
       "      <td id=\"T_dbf48_row3_col7\" class=\"data row3 col7\" >0.90</td>\n",
       "      <td id=\"T_dbf48_row3_col8\" class=\"data row3 col8\" >0.85</td>\n",
       "      <td id=\"T_dbf48_row3_col9\" class=\"data row3 col9\" >0.39</td>\n",
       "    </tr>\n",
       "    <tr>\n",
       "      <th id=\"T_dbf48_level0_row4\" class=\"row_heading level0 row4\" >HYG</th>\n",
       "      <td id=\"T_dbf48_row4_col0\" class=\"data row4 col0\" >0.60</td>\n",
       "      <td id=\"T_dbf48_row4_col1\" class=\"data row4 col1\" >0.46</td>\n",
       "      <td id=\"T_dbf48_row4_col2\" class=\"data row4 col2\" >0.69</td>\n",
       "      <td id=\"T_dbf48_row4_col3\" class=\"data row4 col3\" >0.79</td>\n",
       "      <td id=\"T_dbf48_row4_col4\" class=\"data row4 col4\" >1.00</td>\n",
       "      <td id=\"T_dbf48_row4_col5\" class=\"data row4 col5\" >0.19</td>\n",
       "      <td id=\"T_dbf48_row4_col6\" class=\"data row4 col6\" >0.74</td>\n",
       "      <td id=\"T_dbf48_row4_col7\" class=\"data row4 col7\" >0.81</td>\n",
       "      <td id=\"T_dbf48_row4_col8\" class=\"data row4 col8\" >0.79</td>\n",
       "      <td id=\"T_dbf48_row4_col9\" class=\"data row4 col9\" >0.54</td>\n",
       "    </tr>\n",
       "    <tr>\n",
       "      <th id=\"T_dbf48_level0_row5\" class=\"row_heading level0 row5\" >IEF</th>\n",
       "      <td id=\"T_dbf48_row5_col0\" class=\"data row5 col0\" >0.58</td>\n",
       "      <td id=\"T_dbf48_row5_col1\" class=\"data row5 col1\" >-0.30</td>\n",
       "      <td id=\"T_dbf48_row5_col2\" class=\"data row5 col2\" >0.03</td>\n",
       "      <td id=\"T_dbf48_row5_col3\" class=\"data row5 col3\" >0.04</td>\n",
       "      <td id=\"T_dbf48_row5_col4\" class=\"data row5 col4\" >0.19</td>\n",
       "      <td id=\"T_dbf48_row5_col5\" class=\"data row5 col5\" >1.00</td>\n",
       "      <td id=\"T_dbf48_row5_col6\" class=\"data row5 col6\" >0.32</td>\n",
       "      <td id=\"T_dbf48_row5_col7\" class=\"data row5 col7\" >0.02</td>\n",
       "      <td id=\"T_dbf48_row5_col8\" class=\"data row5 col8\" >0.00</td>\n",
       "      <td id=\"T_dbf48_row5_col9\" class=\"data row5 col9\" >0.75</td>\n",
       "    </tr>\n",
       "    <tr>\n",
       "      <th id=\"T_dbf48_level0_row6\" class=\"row_heading level0 row6\" >IYR</th>\n",
       "      <td id=\"T_dbf48_row6_col0\" class=\"data row6 col0\" >0.55</td>\n",
       "      <td id=\"T_dbf48_row6_col1\" class=\"data row6 col1\" >0.28</td>\n",
       "      <td id=\"T_dbf48_row6_col2\" class=\"data row6 col2\" >0.58</td>\n",
       "      <td id=\"T_dbf48_row6_col3\" class=\"data row6 col3\" >0.70</td>\n",
       "      <td id=\"T_dbf48_row6_col4\" class=\"data row6 col4\" >0.74</td>\n",
       "      <td id=\"T_dbf48_row6_col5\" class=\"data row6 col5\" >0.32</td>\n",
       "      <td id=\"T_dbf48_row6_col6\" class=\"data row6 col6\" >1.00</td>\n",
       "      <td id=\"T_dbf48_row6_col7\" class=\"data row6 col7\" >0.75</td>\n",
       "      <td id=\"T_dbf48_row6_col8\" class=\"data row6 col8\" >0.75</td>\n",
       "      <td id=\"T_dbf48_row6_col9\" class=\"data row6 col9\" >0.60</td>\n",
       "    </tr>\n",
       "    <tr>\n",
       "      <th id=\"T_dbf48_level0_row7\" class=\"row_heading level0 row7\" >PSP</th>\n",
       "      <td id=\"T_dbf48_row7_col0\" class=\"data row7 col0\" >0.53</td>\n",
       "      <td id=\"T_dbf48_row7_col1\" class=\"data row7 col1\" >0.45</td>\n",
       "      <td id=\"T_dbf48_row7_col2\" class=\"data row7 col2\" >0.75</td>\n",
       "      <td id=\"T_dbf48_row7_col3\" class=\"data row7 col3\" >0.90</td>\n",
       "      <td id=\"T_dbf48_row7_col4\" class=\"data row7 col4\" >0.81</td>\n",
       "      <td id=\"T_dbf48_row7_col5\" class=\"data row7 col5\" >0.02</td>\n",
       "      <td id=\"T_dbf48_row7_col6\" class=\"data row7 col6\" >0.75</td>\n",
       "      <td id=\"T_dbf48_row7_col7\" class=\"data row7 col7\" >1.00</td>\n",
       "      <td id=\"T_dbf48_row7_col8\" class=\"data row7 col8\" >0.89</td>\n",
       "      <td id=\"T_dbf48_row7_col9\" class=\"data row7 col9\" >0.41</td>\n",
       "    </tr>\n",
       "    <tr>\n",
       "      <th id=\"T_dbf48_level0_row8\" class=\"row_heading level0 row8\" >SPY</th>\n",
       "      <td id=\"T_dbf48_row8_col0\" class=\"data row8 col0\" >0.44</td>\n",
       "      <td id=\"T_dbf48_row8_col1\" class=\"data row8 col1\" >0.43</td>\n",
       "      <td id=\"T_dbf48_row8_col2\" class=\"data row8 col2\" >0.69</td>\n",
       "      <td id=\"T_dbf48_row8_col3\" class=\"data row8 col3\" >0.85</td>\n",
       "      <td id=\"T_dbf48_row8_col4\" class=\"data row8 col4\" >0.79</td>\n",
       "      <td id=\"T_dbf48_row8_col5\" class=\"data row8 col5\" >0.00</td>\n",
       "      <td id=\"T_dbf48_row8_col6\" class=\"data row8 col6\" >0.75</td>\n",
       "      <td id=\"T_dbf48_row8_col7\" class=\"data row8 col7\" >0.89</td>\n",
       "      <td id=\"T_dbf48_row8_col8\" class=\"data row8 col8\" >1.00</td>\n",
       "      <td id=\"T_dbf48_row8_col9\" class=\"data row8 col9\" >0.38</td>\n",
       "    </tr>\n",
       "    <tr>\n",
       "      <th id=\"T_dbf48_level0_row9\" class=\"row_heading level0 row9\" >TIP</th>\n",
       "      <td id=\"T_dbf48_row9_col0\" class=\"data row9 col0\" >0.68</td>\n",
       "      <td id=\"T_dbf48_row9_col1\" class=\"data row9 col1\" >0.11</td>\n",
       "      <td id=\"T_dbf48_row9_col2\" class=\"data row9 col2\" >0.38</td>\n",
       "      <td id=\"T_dbf48_row9_col3\" class=\"data row9 col3\" >0.39</td>\n",
       "      <td id=\"T_dbf48_row9_col4\" class=\"data row9 col4\" >0.54</td>\n",
       "      <td id=\"T_dbf48_row9_col5\" class=\"data row9 col5\" >0.75</td>\n",
       "      <td id=\"T_dbf48_row9_col6\" class=\"data row9 col6\" >0.60</td>\n",
       "      <td id=\"T_dbf48_row9_col7\" class=\"data row9 col7\" >0.41</td>\n",
       "      <td id=\"T_dbf48_row9_col8\" class=\"data row9 col8\" >0.38</td>\n",
       "      <td id=\"T_dbf48_row9_col9\" class=\"data row9 col9\" >1.00</td>\n",
       "    </tr>\n",
       "  </tbody>\n",
       "</table>\n"
      ],
      "text/plain": [
       "<pandas.io.formats.style.Styler at 0x2a2955cb130>"
      ]
     },
     "metadata": {},
     "output_type": "display_data"
    },
    {
     "name": "stdout",
     "output_type": "stream",
     "text": [
      "\n",
      "Pair with the highest correlation: ('EFA', 'PSP') (0.8953)\n",
      "Pair with the lowest correlation: ('DBC', 'IEF') (-0.3002)\n"
     ]
    }
   ],
   "source": [
    "correlation_matrix = excess_returns.corr()\n",
    "# Unstack the matrix to get a series of all pairs, then drop self-correlations\n",
    "corr_pairs = correlation_matrix.unstack()\n",
    "corr_pairs = corr_pairs.drop_duplicates() # Drop duplicate pairs\n",
    "corr_pairs = corr_pairs[corr_pairs.abs() != 1] # Drop self-correlations\n",
    "\n",
    "highest_corr_pair = corr_pairs.idxmax()\n",
    "lowest_corr_pair = corr_pairs.idxmin()\n",
    "\n",
    "print(\"Correlation Matrix:\")\n",
    "display(correlation_matrix.style.background_gradient(cmap='coolwarm').format(\"{:.2f}\"))\n",
    "\n",
    "print(f\"\\nPair with the highest correlation: {highest_corr_pair} ({correlation_matrix.loc[highest_corr_pair]:.4f})\")\n",
    "print(f\"Pair with the lowest correlation: {lowest_corr_pair} ({correlation_matrix.loc[lowest_corr_pair]:.4f})\")"
   ]
  },
  {
   "cell_type": "markdown",
   "id": "72b8a66c",
   "metadata": {},
   "source": [
    "TIPS vs IEF vs BWX\n",
    "\n",
    " \n",
    " * **TIPS vs. Domestic Bonds (IEF):** TIPS have a higher mean return, slightly higher volatility, and a significantly better Sharpe ratio than IEF. This suggests they have offered better risk-adjusted performance than domestic bonds in this sample.\n",
    " * **TIPS vs. Foreign Bonds (BWX):** TIPS also outperform foreign bonds, showing a higher mean return, lower volatility, and a much higher Sharpe ratio.\n",
    " \n",
    " Overall, TIPS have performed well relative to other major bond categories in this dataset.\n"
   ]
  },
  {
   "cell_type": "markdown",
   "id": "a34584ab",
   "metadata": {},
   "source": [
    "# Section 2.3: The MV Frontier & Tangency Portfolio"
   ]
  },
  {
   "cell_type": "markdown",
   "id": "ea8ac3c8",
   "metadata": {},
   "source": [
    "Calculating the tangency weights"
   ]
  },
  {
   "cell_type": "code",
   "execution_count": null,
   "id": "58b60f48",
   "metadata": {},
   "outputs": [
    {
     "name": "stdout",
     "output_type": "stream",
     "text": [
      "Tangency Portfolio Weights (w_T):\n"
     ]
    },
    {
     "data": {
      "text/html": [
       "<style type=\"text/css\">\n",
       "</style>\n",
       "<table id=\"T_e4ed0\">\n",
       "  <thead>\n",
       "    <tr>\n",
       "      <th class=\"blank level0\" >&nbsp;</th>\n",
       "      <th id=\"T_e4ed0_level0_col0\" class=\"col_heading level0 col0\" >Weight</th>\n",
       "    </tr>\n",
       "  </thead>\n",
       "  <tbody>\n",
       "    <tr>\n",
       "      <th id=\"T_e4ed0_level0_row0\" class=\"row_heading level0 row0\" >BWX</th>\n",
       "      <td id=\"T_e4ed0_row0_col0\" class=\"data row0 col0\" >-85.06%</td>\n",
       "    </tr>\n",
       "    <tr>\n",
       "      <th id=\"T_e4ed0_level0_row1\" class=\"row_heading level0 row1\" >DBC</th>\n",
       "      <td id=\"T_e4ed0_row1_col0\" class=\"data row1 col0\" >-7.16%</td>\n",
       "    </tr>\n",
       "    <tr>\n",
       "      <th id=\"T_e4ed0_level0_row2\" class=\"row_heading level0 row2\" >EEM</th>\n",
       "      <td id=\"T_e4ed0_row2_col0\" class=\"data row2 col0\" >2.64%</td>\n",
       "    </tr>\n",
       "    <tr>\n",
       "      <th id=\"T_e4ed0_level0_row3\" class=\"row_heading level0 row3\" >EFA</th>\n",
       "      <td id=\"T_e4ed0_row3_col0\" class=\"data row3 col0\" >6.87%</td>\n",
       "    </tr>\n",
       "    <tr>\n",
       "      <th id=\"T_e4ed0_level0_row4\" class=\"row_heading level0 row4\" >HYG</th>\n",
       "      <td id=\"T_e4ed0_row4_col0\" class=\"data row4 col0\" >29.06%</td>\n",
       "    </tr>\n",
       "    <tr>\n",
       "      <th id=\"T_e4ed0_level0_row5\" class=\"row_heading level0 row5\" >IEF</th>\n",
       "      <td id=\"T_e4ed0_row5_col0\" class=\"data row5 col0\" >88.12%</td>\n",
       "    </tr>\n",
       "    <tr>\n",
       "      <th id=\"T_e4ed0_level0_row6\" class=\"row_heading level0 row6\" >IYR</th>\n",
       "      <td id=\"T_e4ed0_row6_col0\" class=\"data row6 col0\" >-24.66%</td>\n",
       "    </tr>\n",
       "    <tr>\n",
       "      <th id=\"T_e4ed0_level0_row7\" class=\"row_heading level0 row7\" >PSP</th>\n",
       "      <td id=\"T_e4ed0_row7_col0\" class=\"data row7 col0\" >-33.30%</td>\n",
       "    </tr>\n",
       "    <tr>\n",
       "      <th id=\"T_e4ed0_level0_row8\" class=\"row_heading level0 row8\" >SPY</th>\n",
       "      <td id=\"T_e4ed0_row8_col0\" class=\"data row8 col0\" >105.96%</td>\n",
       "    </tr>\n",
       "    <tr>\n",
       "      <th id=\"T_e4ed0_level0_row9\" class=\"row_heading level0 row9\" >TIP</th>\n",
       "      <td id=\"T_e4ed0_row9_col0\" class=\"data row9 col0\" >17.53%</td>\n",
       "    </tr>\n",
       "  </tbody>\n",
       "</table>\n"
      ],
      "text/plain": [
       "<pandas.io.formats.style.Styler at 0x2a295b63a60>"
      ]
     },
     "metadata": {},
     "output_type": "display_data"
    }
   ],
   "source": [
    "cov_matrix = excess_returns.cov() * 12\n",
    "inv_cov_matrix = np.linalg.inv(cov_matrix)\n",
    "tangency_weights_unscaled = inv_cov_matrix @ excess_mean\n",
    "tangency_weights = tangency_weights_unscaled / tangency_weights_unscaled.sum()\n",
    "\n",
    "tangency_weights_df = pd.DataFrame(tangency_weights, index=excess_returns.columns, columns=['Weight'])\n",
    "print(\"Tangency Portfolio Weights (w_T):\")\n",
    "display(tangency_weights_df.style.format(\"{:.2%}\"))\n"
   ]
  },
  {
   "cell_type": "markdown",
   "id": "ff53b168",
   "metadata": {},
   "source": [
    "Tangency Portfolio Performance"
   ]
  },
  {
   "cell_type": "code",
   "execution_count": 32,
   "id": "e1d2eefd",
   "metadata": {},
   "outputs": [
    {
     "name": "stdout",
     "output_type": "stream",
     "text": [
      "\n",
      "Tangency Portfolio Performance (Annualized):\n",
      "Mean: 0.1285\n",
      "Volatility: 0.0875\n",
      "Sharpe Ratio: 1.4692\n"
     ]
    }
   ],
   "source": [
    "tangency_return = tangency_weights @ excess_mean\n",
    "tangency_volatility = np.sqrt(tangency_weights.T @ cov_matrix @ tangency_weights)\n",
    "tangency_sharpe = tangency_return / tangency_volatility\n",
    "\n",
    "print(\"\\nTangency Portfolio Performance (Annualized):\")\n",
    "print(f\"Mean: {tangency_return:.4f}\")\n",
    "print(f\"Volatility: {tangency_volatility:.4f}\")\n",
    "print(f\"Sharpe Ratio: {tangency_sharpe:.4f}\")"
   ]
  },
  {
   "cell_type": "markdown",
   "id": "f9abc608",
   "metadata": {},
   "source": [
    "# Section 2.4: TIPS Sensitivity Analysis"
   ]
  },
  {
   "cell_type": "markdown",
   "id": "4dd2bc76",
   "metadata": {},
   "source": [
    "Analysis without TIPS"
   ]
  },
  {
   "cell_type": "code",
   "execution_count": 37,
   "id": "2933ebb9",
   "metadata": {},
   "outputs": [],
   "source": [
    "excess_returns_no_tips = excess_returns.drop(columns=['TIP'])\n",
    "mean_returns_no_tips = excess_returns_no_tips.mean() * 12\n",
    "cov_matrix_no_tips = excess_returns_no_tips.cov() * 12\n",
    "inv_cov_no_tips = np.linalg.inv(cov_matrix_no_tips)\n",
    "weights_unscaled_no_tips = inv_cov_no_tips @ mean_returns_no_tips\n",
    "no_tips_weights = weights_unscaled_no_tips / weights_unscaled_no_tips.sum()\n",
    "\n",
    "no_tips_return = no_tips_weights @ mean_returns_no_tips\n",
    "no_tips_volatility = np.sqrt(no_tips_weights.T @ cov_matrix_no_tips @ no_tips_weights)\n",
    "no_tips_sharpe = no_tips_return / no_tips_volatility"
   ]
  },
  {
   "cell_type": "markdown",
   "id": "5c7d0a98",
   "metadata": {},
   "source": [
    "Analysis with Adjusted TIPS Return"
   ]
  },
  {
   "cell_type": "code",
   "execution_count": 36,
   "id": "b37cdb4d",
   "metadata": {},
   "outputs": [],
   "source": [
    "annual_return_increase = 0.0012 * 12\n",
    "mean_returns_adj = excess_mean.copy()\n",
    "mean_returns_adj['TIP'] += annual_return_increase\n",
    "\n",
    "weights_unscaled_adj = inv_cov_matrix @ mean_returns_adj\n",
    "adj_tips_weights = weights_unscaled_adj / weights_unscaled_adj.sum()\n",
    "\n",
    "adj_tips_return = adj_tips_weights @ mean_returns_adj\n",
    "adj_tips_volatility = np.sqrt(adj_tips_weights.T @ cov_matrix @ adj_tips_weights)\n",
    "adj_tips_sharpe = adj_tips_return / adj_tips_volatility"
   ]
  },
  {
   "cell_type": "markdown",
   "id": "a2bbea54",
   "metadata": {},
   "source": [
    "Comparison of both the Adjusted TIPS Return and without TIPS"
   ]
  },
  {
   "cell_type": "code",
   "execution_count": 38,
   "id": "27691436",
   "metadata": {},
   "outputs": [
    {
     "name": "stdout",
     "output_type": "stream",
     "text": [
      "Performance Comparison Across Scenarios:\n"
     ]
    },
    {
     "data": {
      "text/html": [
       "<style type=\"text/css\">\n",
       "</style>\n",
       "<table id=\"T_7d9ed\">\n",
       "  <thead>\n",
       "    <tr>\n",
       "      <th class=\"blank level0\" >&nbsp;</th>\n",
       "      <th id=\"T_7d9ed_level0_col0\" class=\"col_heading level0 col0\" >Annualized Mean</th>\n",
       "      <th id=\"T_7d9ed_level0_col1\" class=\"col_heading level0 col1\" >Annualized Volatility</th>\n",
       "      <th id=\"T_7d9ed_level0_col2\" class=\"col_heading level0 col2\" >Annualized Sharpe Ratio</th>\n",
       "    </tr>\n",
       "  </thead>\n",
       "  <tbody>\n",
       "    <tr>\n",
       "      <th id=\"T_7d9ed_level0_row0\" class=\"row_heading level0 row0\" >Base Case (with TIPS)</th>\n",
       "      <td id=\"T_7d9ed_row0_col0\" class=\"data row0 col0\" >0.1285</td>\n",
       "      <td id=\"T_7d9ed_row0_col1\" class=\"data row0 col1\" >0.0875</td>\n",
       "      <td id=\"T_7d9ed_row0_col2\" class=\"data row0 col2\" >1.4692</td>\n",
       "    </tr>\n",
       "    <tr>\n",
       "      <th id=\"T_7d9ed_level0_row1\" class=\"row_heading level0 row1\" >No TIPS</th>\n",
       "      <td id=\"T_7d9ed_row1_col0\" class=\"data row1 col0\" >0.1327</td>\n",
       "      <td id=\"T_7d9ed_row1_col1\" class=\"data row1 col1\" >0.0905</td>\n",
       "      <td id=\"T_7d9ed_row1_col2\" class=\"data row1 col2\" >1.4675</td>\n",
       "    </tr>\n",
       "    <tr>\n",
       "      <th id=\"T_7d9ed_level0_row2\" class=\"row_heading level0 row2\" >Adjusted TIPS Return</th>\n",
       "      <td id=\"T_7d9ed_row2_col0\" class=\"data row2 col0\" >0.1204</td>\n",
       "      <td id=\"T_7d9ed_row2_col1\" class=\"data row2 col1\" >0.0746</td>\n",
       "      <td id=\"T_7d9ed_row2_col2\" class=\"data row2 col2\" >1.6124</td>\n",
       "    </tr>\n",
       "  </tbody>\n",
       "</table>\n"
      ],
      "text/plain": [
       "<pandas.io.formats.style.Styler at 0x2a2979d3eb0>"
      ]
     },
     "metadata": {},
     "output_type": "display_data"
    },
    {
     "name": "stdout",
     "output_type": "stream",
     "text": [
      "\n",
      "Weight of TIPS in each scenario:\n",
      "Base Case: 17.53%\n",
      "Adjusted TIPS Return: 128.25%\n"
     ]
    }
   ],
   "source": [
    "comparison_df = pd.DataFrame({\n",
    "    'Annualized Mean': [tangency_return, no_tips_return, adj_tips_return],\n",
    "    'Annualized Volatility': [tangency_volatility, no_tips_volatility, adj_tips_volatility],\n",
    "    'Annualized Sharpe Ratio': [tangency_sharpe, no_tips_sharpe, adj_tips_sharpe]\n",
    "}, index=['Base Case (with TIPS)', 'No TIPS', 'Adjusted TIPS Return'])\n",
    "\n",
    "print(\"Performance Comparison Across Scenarios:\")\n",
    "display(comparison_df.style.format(\"{:.4f}\"))\n",
    "\n",
    "print(\"\\nWeight of TIPS in each scenario:\")\n",
    "print(f\"Base Case: {tangency_weights_df.loc['TIP', 'Weight']:.2%}\")\n",
    "print(f\"Adjusted TIPS Return: {adj_tips_weights[excess_returns.columns.get_loc('TIP')]:.2%}\")\n"
   ]
  },
  {
   "cell_type": "markdown",
   "id": "eb6e49ea",
   "metadata": {},
   "source": [
    "Yes absolutely, the analysis clearly shows that including TIPS expands the investment opportunity set. \n",
    "If TIPS is removed then the sharpe ratio decreases, and if we give it a bit boost then we actually improve the sharpe by a lot."
   ]
  },
  {
   "cell_type": "markdown",
   "id": "b1f01e23",
   "metadata": {},
   "source": [
    "# Section 3: Allocations"
   ]
  },
  {
   "cell_type": "markdown",
   "id": "fe6924d4",
   "metadata": {},
   "source": [
    "Now we will construct three different portfolios—Mean-Variance (MV), Equally-Weighted (EW), and Risk-Parity (RP)—each scaled to have a targeted mean monthly excess return of 1%. We will then compare their performance."
   ]
  },
  {
   "cell_type": "code",
   "execution_count": 39,
   "id": "fd22dfaa",
   "metadata": {},
   "outputs": [],
   "source": [
    "mu_target_monthly = 0.01\n",
    "mu_target_annual = mu_target_monthly * 12\n",
    "\n",
    "monthly_mean_returns = excess_returns.mean()\n",
    "monthly_cov_matrix = excess_returns.cov()"
   ]
  },
  {
   "cell_type": "markdown",
   "id": "3e59a3ac",
   "metadata": {},
   "source": [
    "1. Equally weighted (EW) Portfolio"
   ]
  },
  {
   "cell_type": "code",
   "execution_count": 40,
   "id": "93736dd1",
   "metadata": {},
   "outputs": [],
   "source": [
    "n_assets = len(excess_returns.columns)\n",
    "ew_weights_initial = np.ones(n_assets) / n_assets\n",
    "ew_mean_monthly = ew_weights_initial @ monthly_mean_returns\n",
    "# Scale the weights to meet the target\n",
    "ew_scalar = mu_target_monthly / ew_mean_monthly\n",
    "ew_weights = ew_scalar * ew_weights_initial"
   ]
  },
  {
   "cell_type": "markdown",
   "id": "80e67f77",
   "metadata": {},
   "source": [
    "2. Risk-Parity (RP) Portfolio"
   ]
  },
  {
   "cell_type": "code",
   "execution_count": 41,
   "id": "d92e82c1",
   "metadata": {},
   "outputs": [],
   "source": [
    "asset_variances = np.diag(monthly_cov_matrix)\n",
    "rp_weights_initial = (1 / asset_variances) / sum(1 / asset_variances)\n",
    "rp_mean_monthly = rp_weights_initial @ monthly_mean_returns\n",
    "# Scale the weights to meet the target\n",
    "rp_scalar = mu_target_monthly / rp_mean_monthly\n",
    "rp_weights = rp_scalar * rp_weights_initial"
   ]
  },
  {
   "cell_type": "markdown",
   "id": "5de3b83a",
   "metadata": {},
   "source": [
    "3. Mean-Variance (MV) Portfolio"
   ]
  },
  {
   "cell_type": "code",
   "execution_count": 42,
   "id": "d96b7c40",
   "metadata": {},
   "outputs": [],
   "source": [
    "w_T = mu_target_monthly / (tangency_weights @ monthly_mean_returns)\n",
    "mv_weights = w_T * tangency_weights"
   ]
  },
  {
   "cell_type": "markdown",
   "id": "f9b84451",
   "metadata": {},
   "source": [
    "#### Performance Comparison"
   ]
  },
  {
   "cell_type": "code",
   "execution_count": 44,
   "id": "a7f9f623",
   "metadata": {},
   "outputs": [
    {
     "name": "stdout",
     "output_type": "stream",
     "text": [
      "Performance of Scaled Allocation Strategies:\n"
     ]
    },
    {
     "data": {
      "text/html": [
       "<style type=\"text/css\">\n",
       "</style>\n",
       "<table id=\"T_aa868\">\n",
       "  <thead>\n",
       "    <tr>\n",
       "      <th class=\"blank level0\" >&nbsp;</th>\n",
       "      <th id=\"T_aa868_level0_col0\" class=\"col_heading level0 col0\" >Annualized Mean</th>\n",
       "      <th id=\"T_aa868_level0_col1\" class=\"col_heading level0 col1\" >Annualized Volatility</th>\n",
       "      <th id=\"T_aa868_level0_col2\" class=\"col_heading level0 col2\" >Annualized Sharpe Ratio</th>\n",
       "    </tr>\n",
       "  </thead>\n",
       "  <tbody>\n",
       "    <tr>\n",
       "      <th id=\"T_aa868_level0_row0\" class=\"row_heading level0 row0\" >MV</th>\n",
       "      <td id=\"T_aa868_row0_col0\" class=\"data row0 col0\" >0.1200</td>\n",
       "      <td id=\"T_aa868_row0_col1\" class=\"data row0 col1\" >0.0817</td>\n",
       "      <td id=\"T_aa868_row0_col2\" class=\"data row0 col2\" >1.4692</td>\n",
       "    </tr>\n",
       "    <tr>\n",
       "      <th id=\"T_aa868_level0_row1\" class=\"row_heading level0 row1\" >EW</th>\n",
       "      <td id=\"T_aa868_row1_col0\" class=\"data row1 col0\" >0.1200</td>\n",
       "      <td id=\"T_aa868_row1_col1\" class=\"data row1 col1\" >0.2692</td>\n",
       "      <td id=\"T_aa868_row1_col2\" class=\"data row1 col2\" >0.4457</td>\n",
       "    </tr>\n",
       "    <tr>\n",
       "      <th id=\"T_aa868_level0_row2\" class=\"row_heading level0 row2\" >RP</th>\n",
       "      <td id=\"T_aa868_row2_col0\" class=\"data row2 col0\" >0.1200</td>\n",
       "      <td id=\"T_aa868_row2_col1\" class=\"data row2 col1\" >0.2639</td>\n",
       "      <td id=\"T_aa868_row2_col2\" class=\"data row2 col2\" >0.4547</td>\n",
       "    </tr>\n",
       "  </tbody>\n",
       "</table>\n"
      ],
      "text/plain": [
       "<pandas.io.formats.style.Styler at 0x2a2955cb5b0>"
      ]
     },
     "metadata": {},
     "output_type": "display_data"
    }
   ],
   "source": [
    "portfolios = {'MV': mv_weights, 'EW': ew_weights, 'RP': rp_weights}\n",
    "performance_data = {}\n",
    "\n",
    "for name, weights in portfolios.items():\n",
    "    ann_mean = (weights @ monthly_mean_returns) * 12\n",
    "    ann_vol = np.sqrt(weights.T @ cov_matrix @ weights)\n",
    "    sharpe = ann_mean / ann_vol\n",
    "    performance_data[name] = {'Annualized Mean': ann_mean, 'Annualized Volatility': ann_vol, 'Annualized Sharpe Ratio': sharpe}\n",
    "\n",
    "allocation_comparison_df = pd.DataFrame(performance_data).T\n",
    "print(\"Performance of Scaled Allocation Strategies:\")\n",
    "display(allocation_comparison_df.style.format(\"{:.4f}\"))"
   ]
  },
  {
   "cell_type": "markdown",
   "id": "be118faa",
   "metadata": {},
   "source": [
    "the Mean-Variance (MV) portfolio is superior. It achieves the target return with the lowest volatility, and has the highest Sharpe ratio."
   ]
  },
  {
   "cell_type": "markdown",
   "id": "457e7fbb",
   "metadata": {},
   "source": []
  }
 ],
 "metadata": {
  "kernelspec": {
   "display_name": "finmpy",
   "language": "python",
   "name": "python3"
  },
  "language_info": {
   "codemirror_mode": {
    "name": "ipython",
    "version": 3
   },
   "file_extension": ".py",
   "mimetype": "text/x-python",
   "name": "python",
   "nbconvert_exporter": "python",
   "pygments_lexer": "ipython3",
   "version": "3.10.18"
  }
 },
 "nbformat": 4,
 "nbformat_minor": 5
}
